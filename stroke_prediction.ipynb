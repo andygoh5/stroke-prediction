{
 "cells": [
  {
   "cell_type": "code",
   "execution_count": 320,
   "id": "forward-press",
   "metadata": {
    "tags": []
   },
   "outputs": [],
   "source": [
    "import pandas as pd\n",
    "import numpy as np\n",
    "import statsmodels.api as sm\n",
    "import matplotlib.pyplot as plt\n",
    "import seaborn as sns\n",
    "from sklearn.model_selection import train_test_split, cross_val_score, \n",
    "                                    GridSearchCV, RepeatedStratifiedKFold,\n",
    "                                    StratifiedShuffleSplit\n",
    "from sklearn import metrics\n",
    "from sklearn.svm import SVC  \n",
    "from sklearn.linear_model import LogisticRegression\n",
    "from sklearn.neighbors import KNeighborsClassifier\n",
    "from sklearn.tree import DecisionTreeClassifier\n",
    "from sklearn.cluster import KMeans\n",
    "from sklearn.metrics import confusion_matrix\n",
    "import sklearn.metrics.cluster as smc\n",
    "from sklearn.model_selection import KFold\n",
    "from sklearn.naive_bayes import GaussianNB\n",
    "\n",
    "import imblearn\n",
    "from imblearn.under_sampling import NearMiss\n",
    "\n",
    "import itertools\n",
    "import sys\n",
    "import os"
   ]
  },
  {
   "cell_type": "code",
   "execution_count": 321,
   "id": "remarkable-holly",
   "metadata": {},
   "outputs": [],
   "source": [
    "# helper functions from previous projects\n",
    "\n",
    "ROOT_DIR = \".\"\n",
    "IMAGES_PATH = os.path.join(ROOT_DIR, \"images\")\n",
    "os.makedirs(IMAGES_PATH, exist_ok=True)\n",
    "\n",
    "def save_fig(fig_name, tight_layout=True, fig_extension=\"png\", resolution=300):\n",
    "    '''\n",
    "        plt.savefig wrapper. refer to \n",
    "        https://matplotlib.org/3.1.1/api/_as_gen/matplotlib.pyplot.savefig.html\n",
    "        \n",
    "        Args:\n",
    "            fig_name (str): name of the figrue\n",
    "            tight_layout (bool): adjust subplot to fit in the figure area\n",
    "            fig_extension (str): file format to save the figure in\n",
    "            resolution (int): figure resolution\n",
    "    '''\n",
    "    path = os.path.join(IMAGES_PATH, fig_name + \".\" + fig_extension)\n",
    "    print(\"Saving figure\", fig_name)\n",
    "    if tight_layout:\n",
    "        plt.tight_layout()\n",
    "    plt.savefig(path, format=fig_extension, dpi=resolution)\n",
    "    \n",
    "def draw_confusion_matrix(y, yhat, classes):\n",
    "    '''\n",
    "        Draws a confusion matrix for the given target and predictions\n",
    "        Adapted from scikit-learn and discussion example.\n",
    "    '''\n",
    "    plt.cla()\n",
    "    plt.clf()\n",
    "    matrix = confusion_matrix(y, yhat)\n",
    "    plt.imshow(matrix, interpolation='nearest', cmap=plt.cm.Blues)\n",
    "    plt.title(\"Confusion Matrix\")\n",
    "    plt.colorbar()\n",
    "    num_classes = len(classes)\n",
    "    plt.xticks(np.arange(num_classes), classes, rotation=90)\n",
    "    plt.yticks(np.arange(num_classes), classes)\n",
    "    \n",
    "    fmt = 'd'\n",
    "    thresh = matrix.max() / 2.\n",
    "    for i, j in itertools.product(range(matrix.shape[0]), range(matrix.shape[1])):\n",
    "        plt.text(j, i, format(matrix[i, j], fmt),\n",
    "                 horizontalalignment=\"center\",\n",
    "                 color=\"white\" if matrix[i, j] > thresh else \"black\")\n",
    "\n",
    "    plt.ylabel('True label')\n",
    "    plt.xlabel('Predicted label')\n",
    "    plt.tight_layout()\n",
    "    plt.show()"
   ]
  },
  {
   "cell_type": "markdown",
   "id": "buried-portuguese",
   "metadata": {},
   "source": [
    "## Loading in the Data and High-level Analysis"
   ]
  },
  {
   "cell_type": "code",
   "execution_count": 322,
   "id": "basic-following",
   "metadata": {},
   "outputs": [],
   "source": [
    "stroke_df = pd.read_csv('healthcare-dataset-stroke-data.csv')"
   ]
  },
  {
   "cell_type": "code",
   "execution_count": 372,
   "id": "empty-reputation",
   "metadata": {
    "tags": []
   },
   "outputs": [
    {
     "data": {
      "text/html": [
       "<div>\n",
       "<style scoped>\n",
       "    .dataframe tbody tr th:only-of-type {\n",
       "        vertical-align: middle;\n",
       "    }\n",
       "\n",
       "    .dataframe tbody tr th {\n",
       "        vertical-align: top;\n",
       "    }\n",
       "\n",
       "    .dataframe thead th {\n",
       "        text-align: right;\n",
       "    }\n",
       "</style>\n",
       "<table border=\"1\" class=\"dataframe\">\n",
       "  <thead>\n",
       "    <tr style=\"text-align: right;\">\n",
       "      <th></th>\n",
       "      <th>id</th>\n",
       "      <th>gender</th>\n",
       "      <th>age</th>\n",
       "      <th>hypertension</th>\n",
       "      <th>heart_disease</th>\n",
       "      <th>ever_married</th>\n",
       "      <th>work_type</th>\n",
       "      <th>Residence_type</th>\n",
       "      <th>avg_glucose_level</th>\n",
       "      <th>bmi</th>\n",
       "      <th>smoking_status</th>\n",
       "      <th>stroke</th>\n",
       "    </tr>\n",
       "  </thead>\n",
       "  <tbody>\n",
       "    <tr>\n",
       "      <th>0</th>\n",
       "      <td>9046</td>\n",
       "      <td>Male</td>\n",
       "      <td>67.0</td>\n",
       "      <td>0</td>\n",
       "      <td>1</td>\n",
       "      <td>Yes</td>\n",
       "      <td>Private</td>\n",
       "      <td>Urban</td>\n",
       "      <td>228.69</td>\n",
       "      <td>36.6</td>\n",
       "      <td>formerly smoked</td>\n",
       "      <td>1</td>\n",
       "    </tr>\n",
       "    <tr>\n",
       "      <th>1</th>\n",
       "      <td>51676</td>\n",
       "      <td>Female</td>\n",
       "      <td>61.0</td>\n",
       "      <td>0</td>\n",
       "      <td>0</td>\n",
       "      <td>Yes</td>\n",
       "      <td>Self-employed</td>\n",
       "      <td>Rural</td>\n",
       "      <td>202.21</td>\n",
       "      <td>NaN</td>\n",
       "      <td>never smoked</td>\n",
       "      <td>1</td>\n",
       "    </tr>\n",
       "    <tr>\n",
       "      <th>2</th>\n",
       "      <td>31112</td>\n",
       "      <td>Male</td>\n",
       "      <td>80.0</td>\n",
       "      <td>0</td>\n",
       "      <td>1</td>\n",
       "      <td>Yes</td>\n",
       "      <td>Private</td>\n",
       "      <td>Rural</td>\n",
       "      <td>105.92</td>\n",
       "      <td>32.5</td>\n",
       "      <td>never smoked</td>\n",
       "      <td>1</td>\n",
       "    </tr>\n",
       "    <tr>\n",
       "      <th>3</th>\n",
       "      <td>60182</td>\n",
       "      <td>Female</td>\n",
       "      <td>49.0</td>\n",
       "      <td>0</td>\n",
       "      <td>0</td>\n",
       "      <td>Yes</td>\n",
       "      <td>Private</td>\n",
       "      <td>Urban</td>\n",
       "      <td>171.23</td>\n",
       "      <td>34.4</td>\n",
       "      <td>smokes</td>\n",
       "      <td>1</td>\n",
       "    </tr>\n",
       "    <tr>\n",
       "      <th>4</th>\n",
       "      <td>1665</td>\n",
       "      <td>Female</td>\n",
       "      <td>79.0</td>\n",
       "      <td>1</td>\n",
       "      <td>0</td>\n",
       "      <td>Yes</td>\n",
       "      <td>Self-employed</td>\n",
       "      <td>Rural</td>\n",
       "      <td>174.12</td>\n",
       "      <td>24.0</td>\n",
       "      <td>never smoked</td>\n",
       "      <td>1</td>\n",
       "    </tr>\n",
       "  </tbody>\n",
       "</table>\n",
       "</div>"
      ],
      "text/plain": [
       "      id  gender   age  hypertension  heart_disease ever_married  \\\n",
       "0   9046    Male  67.0             0              1          Yes   \n",
       "1  51676  Female  61.0             0              0          Yes   \n",
       "2  31112    Male  80.0             0              1          Yes   \n",
       "3  60182  Female  49.0             0              0          Yes   \n",
       "4   1665  Female  79.0             1              0          Yes   \n",
       "\n",
       "       work_type Residence_type  avg_glucose_level   bmi   smoking_status  \\\n",
       "0        Private          Urban             228.69  36.6  formerly smoked   \n",
       "1  Self-employed          Rural             202.21   NaN     never smoked   \n",
       "2        Private          Rural             105.92  32.5     never smoked   \n",
       "3        Private          Urban             171.23  34.4           smokes   \n",
       "4  Self-employed          Rural             174.12  24.0     never smoked   \n",
       "\n",
       "   stroke  \n",
       "0       1  \n",
       "1       1  \n",
       "2       1  \n",
       "3       1  \n",
       "4       1  "
      ]
     },
     "execution_count": 372,
     "metadata": {},
     "output_type": "execute_result"
    }
   ],
   "source": [
    "stroke_df.head()"
   ]
  },
  {
   "cell_type": "code",
   "execution_count": 363,
   "id": "adult-breast",
   "metadata": {},
   "outputs": [
    {
     "data": {
      "text/html": [
       "<div>\n",
       "<style scoped>\n",
       "    .dataframe tbody tr th:only-of-type {\n",
       "        vertical-align: middle;\n",
       "    }\n",
       "\n",
       "    .dataframe tbody tr th {\n",
       "        vertical-align: top;\n",
       "    }\n",
       "\n",
       "    .dataframe thead th {\n",
       "        text-align: right;\n",
       "    }\n",
       "</style>\n",
       "<table border=\"1\" class=\"dataframe\">\n",
       "  <thead>\n",
       "    <tr style=\"text-align: right;\">\n",
       "      <th></th>\n",
       "      <th>id</th>\n",
       "      <th>age</th>\n",
       "      <th>hypertension</th>\n",
       "      <th>heart_disease</th>\n",
       "      <th>avg_glucose_level</th>\n",
       "      <th>bmi</th>\n",
       "      <th>stroke</th>\n",
       "    </tr>\n",
       "  </thead>\n",
       "  <tbody>\n",
       "    <tr>\n",
       "      <th>count</th>\n",
       "      <td>5110.000000</td>\n",
       "      <td>5110.000000</td>\n",
       "      <td>5110.000000</td>\n",
       "      <td>5110.000000</td>\n",
       "      <td>5110.000000</td>\n",
       "      <td>4909.000000</td>\n",
       "      <td>5110.000000</td>\n",
       "    </tr>\n",
       "    <tr>\n",
       "      <th>mean</th>\n",
       "      <td>36517.829354</td>\n",
       "      <td>43.226614</td>\n",
       "      <td>0.097456</td>\n",
       "      <td>0.054012</td>\n",
       "      <td>106.147677</td>\n",
       "      <td>28.893237</td>\n",
       "      <td>0.048728</td>\n",
       "    </tr>\n",
       "    <tr>\n",
       "      <th>std</th>\n",
       "      <td>21161.721625</td>\n",
       "      <td>22.612647</td>\n",
       "      <td>0.296607</td>\n",
       "      <td>0.226063</td>\n",
       "      <td>45.283560</td>\n",
       "      <td>7.854067</td>\n",
       "      <td>0.215320</td>\n",
       "    </tr>\n",
       "    <tr>\n",
       "      <th>min</th>\n",
       "      <td>67.000000</td>\n",
       "      <td>0.080000</td>\n",
       "      <td>0.000000</td>\n",
       "      <td>0.000000</td>\n",
       "      <td>55.120000</td>\n",
       "      <td>10.300000</td>\n",
       "      <td>0.000000</td>\n",
       "    </tr>\n",
       "    <tr>\n",
       "      <th>25%</th>\n",
       "      <td>17741.250000</td>\n",
       "      <td>25.000000</td>\n",
       "      <td>0.000000</td>\n",
       "      <td>0.000000</td>\n",
       "      <td>77.245000</td>\n",
       "      <td>23.500000</td>\n",
       "      <td>0.000000</td>\n",
       "    </tr>\n",
       "    <tr>\n",
       "      <th>50%</th>\n",
       "      <td>36932.000000</td>\n",
       "      <td>45.000000</td>\n",
       "      <td>0.000000</td>\n",
       "      <td>0.000000</td>\n",
       "      <td>91.885000</td>\n",
       "      <td>28.100000</td>\n",
       "      <td>0.000000</td>\n",
       "    </tr>\n",
       "    <tr>\n",
       "      <th>75%</th>\n",
       "      <td>54682.000000</td>\n",
       "      <td>61.000000</td>\n",
       "      <td>0.000000</td>\n",
       "      <td>0.000000</td>\n",
       "      <td>114.090000</td>\n",
       "      <td>33.100000</td>\n",
       "      <td>0.000000</td>\n",
       "    </tr>\n",
       "    <tr>\n",
       "      <th>max</th>\n",
       "      <td>72940.000000</td>\n",
       "      <td>82.000000</td>\n",
       "      <td>1.000000</td>\n",
       "      <td>1.000000</td>\n",
       "      <td>271.740000</td>\n",
       "      <td>97.600000</td>\n",
       "      <td>1.000000</td>\n",
       "    </tr>\n",
       "  </tbody>\n",
       "</table>\n",
       "</div>"
      ],
      "text/plain": [
       "                 id          age  hypertension  heart_disease  \\\n",
       "count   5110.000000  5110.000000   5110.000000    5110.000000   \n",
       "mean   36517.829354    43.226614      0.097456       0.054012   \n",
       "std    21161.721625    22.612647      0.296607       0.226063   \n",
       "min       67.000000     0.080000      0.000000       0.000000   \n",
       "25%    17741.250000    25.000000      0.000000       0.000000   \n",
       "50%    36932.000000    45.000000      0.000000       0.000000   \n",
       "75%    54682.000000    61.000000      0.000000       0.000000   \n",
       "max    72940.000000    82.000000      1.000000       1.000000   \n",
       "\n",
       "       avg_glucose_level          bmi       stroke  \n",
       "count        5110.000000  4909.000000  5110.000000  \n",
       "mean          106.147677    28.893237     0.048728  \n",
       "std            45.283560     7.854067     0.215320  \n",
       "min            55.120000    10.300000     0.000000  \n",
       "25%            77.245000    23.500000     0.000000  \n",
       "50%            91.885000    28.100000     0.000000  \n",
       "75%           114.090000    33.100000     0.000000  \n",
       "max           271.740000    97.600000     1.000000  "
      ]
     },
     "execution_count": 363,
     "metadata": {},
     "output_type": "execute_result"
    }
   ],
   "source": [
    "stroke_df.describe()"
   ]
  },
  {
   "cell_type": "code",
   "execution_count": 373,
   "id": "biological-heath",
   "metadata": {
    "tags": []
   },
   "outputs": [
    {
     "name": "stdout",
     "output_type": "stream",
     "text": [
      "Saving figure histogram\n"
     ]
    },
    {
     "data": {
      "image/png": "[encoded data removed]",
      "text/plain": [
       "<Figure size 576x504 with 6 Axes>"
      ]
     },
     "metadata": {
      "needs_background": "light"
     },
     "output_type": "display_data"
    }
   ],
   "source": [
    "stroke_df.drop(\"id\", axis=1).hist(figsize=(8,7))\n",
    "save_fig(\"histogram\")"
   ]
  },
  {
   "cell_type": "code",
   "execution_count": 362,
   "id": "gross-feeling",
   "metadata": {},
   "outputs": [
    {
     "name": "stdout",
     "output_type": "stream",
     "text": [
      "Saving figure class imbalance\n"
     ]
    },
    {
     "data": {
      "text/plain": [
       "0    4861\n",
       "1     249\n",
       "Name: stroke, dtype: int64"
      ]
     },
     "execution_count": 362,
     "metadata": {},
     "output_type": "execute_result"
    },
    {
     "data": {
      "image/png": "[encoded data removed]",
      "text/plain": [
       "<Figure size 360x288 with 1 Axes>"
      ]
     },
     "metadata": {
      "needs_background": "light"
     },
     "output_type": "display_data"
    }
   ],
   "source": [
    "stroke_df[\"stroke\"].hist(figsize=(5,4))\n",
    "plt.xlabel(\"Stroke\")\n",
    "plt.ylabel(\"Amount\")\n",
    "plt.title(\"Distribution of stroke=0 and stroke=1\")\n",
    "save_fig(\"class imbalance\")\n",
    "stroke_df[\"stroke\"].value_counts() # the data is highly unbalanced"
   ]
  },
  {
   "cell_type": "code",
   "execution_count": 374,
   "id": "flying-column",
   "metadata": {
    "tags": []
   },
   "outputs": [
    {
     "name": "stdout",
     "output_type": "stream",
     "text": [
      "Saving figure correlation matrix\n"
     ]
    },
    {
     "data": {
      "image/png": "[encoded data removed]",
      "text/plain": [
       "<Figure size 648x504 with 2 Axes>"
      ]
     },
     "metadata": {
      "needs_background": "light"
     },
     "output_type": "display_data"
    }
   ],
   "source": [
    "# code from https://seaborn.pydata.org/examples/many_pairwise_correlations.html\n",
    "\n",
    "corr = stroke_df.corr()\n",
    "\n",
    "# Generate a mask for the upper triangle\n",
    "mask = np.triu(np.ones_like(corr, dtype=bool))\n",
    "\n",
    "# Set up the matplotlib figure\n",
    "f, ax = plt.subplots(figsize=(9, 7))\n",
    "\n",
    "# Generate a custom diverging colormap\n",
    "cmap = sns.diverging_palette(230, 20, as_cmap=True)\n",
    "\n",
    "# Draw the heatmap with the mask and correct aspect ratio\n",
    "sns.heatmap(corr, mask=mask, cmap=cmap, vmax=.3, center=0,\n",
    "            square=True, linewidths=.5, cbar_kws={\"shrink\": .5})\n",
    "corr\n",
    "save_fig('correlation matrix')"
   ]
  },
  {
   "cell_type": "markdown",
   "id": "czech-height",
   "metadata": {},
   "source": [
    "## Feature Extraction and Pipeline"
   ]
  },
  {
   "cell_type": "code",
   "execution_count": 327,
   "id": "accompanied-stuart",
   "metadata": {},
   "outputs": [],
   "source": [
    "from sklearn.compose import ColumnTransformer\n",
    "from sklearn.pipeline import Pipeline\n",
    "from sklearn.preprocessing import StandardScaler\n",
    "from sklearn.preprocessing import OneHotEncoder\n",
    "from sklearn.impute import SimpleImputer\n",
    "# from sklearn.base import BaseEstimator, TransformerMixin"
   ]
  },
  {
   "cell_type": "code",
   "execution_count": 328,
   "id": "logical-placement",
   "metadata": {},
   "outputs": [
    {
     "data": {
      "text/html": [
       "<div>\n",
       "<style scoped>\n",
       "    .dataframe tbody tr th:only-of-type {\n",
       "        vertical-align: middle;\n",
       "    }\n",
       "\n",
       "    .dataframe tbody tr th {\n",
       "        vertical-align: top;\n",
       "    }\n",
       "\n",
       "    .dataframe thead th {\n",
       "        text-align: right;\n",
       "    }\n",
       "</style>\n",
       "<table border=\"1\" class=\"dataframe\">\n",
       "  <thead>\n",
       "    <tr style=\"text-align: right;\">\n",
       "      <th></th>\n",
       "      <th>id</th>\n",
       "      <th>gender</th>\n",
       "      <th>age</th>\n",
       "      <th>hypertension</th>\n",
       "      <th>heart_disease</th>\n",
       "      <th>ever_married</th>\n",
       "      <th>work_type</th>\n",
       "      <th>Residence_type</th>\n",
       "      <th>avg_glucose_level</th>\n",
       "      <th>bmi</th>\n",
       "      <th>smoking_status</th>\n",
       "      <th>stroke</th>\n",
       "    </tr>\n",
       "  </thead>\n",
       "  <tbody>\n",
       "    <tr>\n",
       "      <th>1</th>\n",
       "      <td>51676</td>\n",
       "      <td>Female</td>\n",
       "      <td>61.0</td>\n",
       "      <td>0</td>\n",
       "      <td>0</td>\n",
       "      <td>Yes</td>\n",
       "      <td>Self-employed</td>\n",
       "      <td>Rural</td>\n",
       "      <td>202.21</td>\n",
       "      <td>NaN</td>\n",
       "      <td>never smoked</td>\n",
       "      <td>1</td>\n",
       "    </tr>\n",
       "    <tr>\n",
       "      <th>8</th>\n",
       "      <td>27419</td>\n",
       "      <td>Female</td>\n",
       "      <td>59.0</td>\n",
       "      <td>0</td>\n",
       "      <td>0</td>\n",
       "      <td>Yes</td>\n",
       "      <td>Private</td>\n",
       "      <td>Rural</td>\n",
       "      <td>76.15</td>\n",
       "      <td>NaN</td>\n",
       "      <td>Unknown</td>\n",
       "      <td>1</td>\n",
       "    </tr>\n",
       "    <tr>\n",
       "      <th>13</th>\n",
       "      <td>8213</td>\n",
       "      <td>Male</td>\n",
       "      <td>78.0</td>\n",
       "      <td>0</td>\n",
       "      <td>1</td>\n",
       "      <td>Yes</td>\n",
       "      <td>Private</td>\n",
       "      <td>Urban</td>\n",
       "      <td>219.84</td>\n",
       "      <td>NaN</td>\n",
       "      <td>Unknown</td>\n",
       "      <td>1</td>\n",
       "    </tr>\n",
       "    <tr>\n",
       "      <th>19</th>\n",
       "      <td>25226</td>\n",
       "      <td>Male</td>\n",
       "      <td>57.0</td>\n",
       "      <td>0</td>\n",
       "      <td>1</td>\n",
       "      <td>No</td>\n",
       "      <td>Govt_job</td>\n",
       "      <td>Urban</td>\n",
       "      <td>217.08</td>\n",
       "      <td>NaN</td>\n",
       "      <td>Unknown</td>\n",
       "      <td>1</td>\n",
       "    </tr>\n",
       "    <tr>\n",
       "      <th>27</th>\n",
       "      <td>61843</td>\n",
       "      <td>Male</td>\n",
       "      <td>58.0</td>\n",
       "      <td>0</td>\n",
       "      <td>0</td>\n",
       "      <td>Yes</td>\n",
       "      <td>Private</td>\n",
       "      <td>Rural</td>\n",
       "      <td>189.84</td>\n",
       "      <td>NaN</td>\n",
       "      <td>Unknown</td>\n",
       "      <td>1</td>\n",
       "    </tr>\n",
       "  </tbody>\n",
       "</table>\n",
       "</div>"
      ],
      "text/plain": [
       "       id  gender   age  hypertension  heart_disease ever_married  \\\n",
       "1   51676  Female  61.0             0              0          Yes   \n",
       "8   27419  Female  59.0             0              0          Yes   \n",
       "13   8213    Male  78.0             0              1          Yes   \n",
       "19  25226    Male  57.0             0              1           No   \n",
       "27  61843    Male  58.0             0              0          Yes   \n",
       "\n",
       "        work_type Residence_type  avg_glucose_level  bmi smoking_status  \\\n",
       "1   Self-employed          Rural             202.21  NaN   never smoked   \n",
       "8         Private          Rural              76.15  NaN        Unknown   \n",
       "13        Private          Urban             219.84  NaN        Unknown   \n",
       "19       Govt_job          Urban             217.08  NaN        Unknown   \n",
       "27        Private          Rural             189.84  NaN        Unknown   \n",
       "\n",
       "    stroke  \n",
       "1        1  \n",
       "8        1  \n",
       "13       1  \n",
       "19       1  \n",
       "27       1  "
      ]
     },
     "execution_count": 328,
     "metadata": {},
     "output_type": "execute_result"
    }
   ],
   "source": [
    "sample_incomplete_rows = stroke_df[stroke_df.isnull().any(axis=1)].head()\n",
    "sample_incomplete_rows"
   ]
  },
  {
   "cell_type": "code",
   "execution_count": 329,
   "id": "canadian-optimum",
   "metadata": {},
   "outputs": [
    {
     "data": {
      "text/plain": [
       "id                     0\n",
       "gender                 0\n",
       "age                    0\n",
       "hypertension           0\n",
       "heart_disease          0\n",
       "ever_married           0\n",
       "work_type              0\n",
       "Residence_type         0\n",
       "avg_glucose_level      0\n",
       "bmi                  201\n",
       "smoking_status         0\n",
       "stroke                 0\n",
       "dtype: int64"
      ]
     },
     "execution_count": 329,
     "metadata": {},
     "output_type": "execute_result"
    }
   ],
   "source": [
    "stroke_df.isnull().sum() # all null values are BMI"
   ]
  },
  {
   "cell_type": "code",
   "execution_count": 330,
   "id": "corresponding-service",
   "metadata": {
    "tags": []
   },
   "outputs": [],
   "source": [
    "stroke_df_dropped = stroke_df.drop('id', axis=1) # unrelated values"
   ]
  },
  {
   "cell_type": "code",
   "execution_count": 331,
   "id": "offshore-interface",
   "metadata": {},
   "outputs": [],
   "source": [
    "# separate features from the label (i.e., stroke)\n",
    "stroke_features = stroke_df_dropped.drop(\"stroke\", axis=1)\n",
    "stroke_labels = stroke_df_dropped[\"stroke\"].copy()"
   ]
  },
  {
   "cell_type": "code",
   "execution_count": 422,
   "id": "faced-karen",
   "metadata": {},
   "outputs": [
    {
     "name": "stdout",
     "output_type": "stream",
     "text": [
      "<class 'pandas.core.frame.DataFrame'>\n",
      "Int64Index: 5110 entries, 0 to 5109\n",
      "Data columns (total 22 columns):\n",
      " #   Column                          Non-Null Count  Dtype  \n",
      "---  ------                          --------------  -----  \n",
      " 0   age                             5110 non-null   float64\n",
      " 1   hypertension                    5110 non-null   float64\n",
      " 2   heart_disease                   5110 non-null   float64\n",
      " 3   avg_glucose_level               5110 non-null   float64\n",
      " 4   bmi                             5110 non-null   float64\n",
      " 5   hd^2                            5110 non-null   float64\n",
      " 6   ht_and_hd                       5110 non-null   float64\n",
      " 7   gender_Female                   5110 non-null   float64\n",
      " 8   gender_Male                     5110 non-null   float64\n",
      " 9   ever_married_No                 5110 non-null   float64\n",
      " 10  ever_married_Yes                5110 non-null   float64\n",
      " 11  work_type_Govt_job              5110 non-null   float64\n",
      " 12  work_type_Never_worked          5110 non-null   float64\n",
      " 13  work_type_Private               5110 non-null   float64\n",
      " 14  work_type_Self-employed         5110 non-null   float64\n",
      " 15  work_type_children              5110 non-null   float64\n",
      " 16  Residence_type_Rural            5110 non-null   float64\n",
      " 17  Residence_type_Urban            5110 non-null   float64\n",
      " 18  smoking_status_Unknown          5110 non-null   float64\n",
      " 19  smoking_status_formerly smoked  5110 non-null   float64\n",
      " 20  smoking_status_never smoked     5110 non-null   float64\n",
      " 21  smoking_status_smokes           5110 non-null   float64\n",
      "dtypes: float64(22)\n",
      "memory usage: 918.2 KB\n"
     ]
    }
   ],
   "source": [
    "# feature augmentation\n",
    "stroke_features['hd^2'] = stroke_features['heart_disease'] * stroke_features['heart_disease']\n",
    "stroke_features['ht_and_hd'] = stroke_features['hypertension'] * stroke_features['heart_disease']\n",
    "\n",
    "categorical_features = [\"gender\", \"ever_married\", \"work_type\", \"Residence_type\", \"smoking_status\"]\n",
    "stroke_num = stroke_features.drop(categorical_features, axis=1)\n",
    "\n",
    "# standardize and impute\n",
    "numerical_features = list(stroke_num)\n",
    "ss = StandardScaler().fit(stroke_features[numerical_features].values)\n",
    "stroke_features[numerical_features] = ss.transform(stroke_features[numerical_features].values)\n",
    "si = SimpleImputer(strategy='median').fit(stroke_features[['bmi']])\n",
    "stroke_features['bmi'] = si.transform(stroke_features[['bmi']])\n",
    "num_transformed = stroke_features.drop(categorical_features, axis=1)\n",
    "\n",
    "# one-hot encode categorical features\n",
    "# source: https://stackoverflow.com/questions/54570947/feature-names-from-onehotencoder\n",
    "ohe = OneHotEncoder()\n",
    "cat_ohe = pd.DataFrame(ohe.fit_transform(stroke_features[categorical_features]).toarray())\n",
    "cat_ohe.columns = ohe.get_feature_names(categorical_features)\n",
    "\n",
    "stroke_prepared = pd.concat([num_transformed, cat_ohe], axis =1).drop_duplicates()\n",
    "stroke_prepared.info()"
   ]
  },
  {
   "cell_type": "markdown",
   "id": "maritime-persian",
   "metadata": {},
   "source": [
    "### Dealing with Imbalanced Dataset"
   ]
  },
  {
   "cell_type": "code",
   "execution_count": 333,
   "id": "foster-jersey",
   "metadata": {},
   "outputs": [],
   "source": [
    "from imblearn.combine import SMOTEENN"
   ]
  },
  {
   "cell_type": "code",
   "execution_count": 423,
   "id": "subject-harbor",
   "metadata": {},
   "outputs": [],
   "source": [
    "X_train, X_test, y_train, y_test = train_test_split(stroke_prepared, stroke_labels, \n",
    "                                                    train_size=0.8, random_state=1)"
   ]
  },
  {
   "cell_type": "code",
   "execution_count": 391,
   "id": "cosmetic-warren",
   "metadata": {},
   "outputs": [
    {
     "data": {
      "text/plain": [
       "0    3899\n",
       "1     189\n",
       "Name: stroke, dtype: int64"
      ]
     },
     "execution_count": 391,
     "metadata": {},
     "output_type": "execute_result"
    }
   ],
   "source": [
    "y_train.value_counts()"
   ]
  },
  {
   "cell_type": "code",
   "execution_count": 335,
   "id": "affected-operation",
   "metadata": {},
   "outputs": [
    {
     "data": {
      "text/plain": [
       "1    3766\n",
       "0    3187\n",
       "Name: stroke, dtype: int64"
      ]
     },
     "execution_count": 335,
     "metadata": {},
     "output_type": "execute_result"
    }
   ],
   "source": [
    "smote_enn = SMOTEENN(random_state=1)\n",
    "X_train_resampled, y_train_resampled = smote_enn.fit_resample(X_train, y_train)\n",
    "y_train_resampled.value_counts() # check that the newly sampled data is balanced"
   ]
  },
  {
   "cell_type": "markdown",
   "id": "framed-correspondence",
   "metadata": {},
   "source": [
    "## Logistic Regression"
   ]
  },
  {
   "cell_type": "code",
   "execution_count": 336,
   "id": "ranging-magic",
   "metadata": {},
   "outputs": [],
   "source": [
    "import statsmodels.api as sm"
   ]
  },
  {
   "cell_type": "code",
   "execution_count": 337,
   "id": "voluntary-signature",
   "metadata": {},
   "outputs": [
    {
     "name": "stdout",
     "output_type": "stream",
     "text": [
      "                            OLS Regression Results                            \n",
      "==============================================================================\n",
      "Dep. Variable:                 stroke   R-squared:                       0.516\n",
      "Model:                            OLS   Adj. R-squared:                  0.515\n",
      "Method:                 Least Squares   F-statistic:                     461.8\n",
      "Date:                Mon, 31 May 2021   Prob (F-statistic):               0.00\n",
      "Time:                        15:47:03   Log-Likelihood:                -2500.8\n",
      "No. Observations:                6953   AIC:                             5036.\n",
      "Df Residuals:                    6936   BIC:                             5152.\n",
      "Df Model:                          16                                         \n",
      "Covariance Type:            nonrobust                                         \n",
      "==================================================================================================\n",
      "                                     coef    std err          t      P>|t|      [0.025      0.975]\n",
      "--------------------------------------------------------------------------------------------------\n",
      "age                                0.3799      0.007     54.553      0.000       0.366       0.394\n",
      "hypertension                       0.0335      0.004      8.507      0.000       0.026       0.041\n",
      "heart_disease                      0.0063      0.002      3.364      0.001       0.003       0.010\n",
      "avg_glucose_level                  0.0466      0.004     11.747      0.000       0.039       0.054\n",
      "bmi                               -0.0164      0.006     -2.828      0.005      -0.028      -0.005\n",
      "hd^2                               0.0063      0.002      3.364      0.001       0.003       0.010\n",
      "ht_and_hd                         -0.0066      0.003     -2.088      0.037      -0.013      -0.000\n",
      "gender_Female                      0.1305      0.006     21.041      0.000       0.118       0.143\n",
      "gender_Male                        0.0725      0.006     11.426      0.000       0.060       0.085\n",
      "ever_married_No                    0.1355      0.008     16.552      0.000       0.119       0.152\n",
      "ever_married_Yes                   0.0675      0.008      8.660      0.000       0.052       0.083\n",
      "work_type_Govt_job                -0.1120      0.019     -5.903      0.000      -0.149      -0.075\n",
      "work_type_Never_worked             0.1066      0.066      1.616      0.106      -0.023       0.236\n",
      "work_type_Private                  0.0116      0.016      0.713      0.476      -0.020       0.043\n",
      "work_type_Self-employed           -0.0774      0.019     -4.158      0.000      -0.114      -0.041\n",
      "work_type_children                 0.2742      0.022     12.208      0.000       0.230       0.318\n",
      "Residence_type_Rural               0.0890      0.006     14.238      0.000       0.077       0.101\n",
      "Residence_type_Urban               0.1140      0.006     18.827      0.000       0.102       0.126\n",
      "smoking_status_Unknown             0.0337      0.009      3.857      0.000       0.017       0.051\n",
      "smoking_status_formerly smoked     0.1159      0.009     13.090      0.000       0.099       0.133\n",
      "smoking_status_never smoked        0.0148      0.007      2.040      0.041       0.001       0.029\n",
      "smoking_status_smokes              0.0386      0.010      3.750      0.000       0.018       0.059\n",
      "==============================================================================\n",
      "Omnibus:                      262.889   Durbin-Watson:                   1.039\n",
      "Prob(Omnibus):                  0.000   Jarque-Bera (JB):              297.097\n",
      "Skew:                          -0.472   Prob(JB):                     3.06e-65\n",
      "Kurtosis:                       3.365   Cond. No.                     2.56e+16\n",
      "==============================================================================\n",
      "\n",
      "Notes:\n",
      "[1] Standard Errors assume that the covariance matrix of the errors is correctly specified.\n",
      "[2] The smallest eigenvalue is 7.5e-29. This might indicate that there are\n",
      "strong multicollinearity problems or that the design matrix is singular.\n"
     ]
    }
   ],
   "source": [
    "import statsmodels.api as sm\n",
    "lr_stats = sm.OLS(y_train_resampled, X_train_resampled)\n",
    "lr_results_stats = lr_stats.fit()\n",
    "print(lr_results_stats.summary())"
   ]
  },
  {
   "cell_type": "code",
   "execution_count": 339,
   "id": "israeli-europe",
   "metadata": {},
   "outputs": [],
   "source": [
    "# Deleting columns with p-values > 0.05\n",
    "X_train_lr = X_train_resampled.drop(['work_type_Never_worked', 'work_type_Private'], axis=1)\n",
    "X_test_lr = X_test.drop(['work_type_Never_worked', 'work_type_Private'], axis=1)"
   ]
  },
  {
   "cell_type": "code",
   "execution_count": 416,
   "id": "stable-cotton",
   "metadata": {},
   "outputs": [
    {
     "name": "stdout",
     "output_type": "stream",
     "text": [
      "Full dataset\n",
      "Accuracy:    0.701566\n",
      "Precision:   0.154930\n",
      "Recall:      0.916667\n",
      "F1 score:    0.265060\n"
     ]
    },
    {
     "data": {
      "image/png": "[encoded data removed]",
      "text/plain": [
       "<Figure size 432x288 with 2 Axes>"
      ]
     },
     "metadata": {
      "needs_background": "light"
     },
     "output_type": "display_data"
    },
    {
     "name": "stdout",
     "output_type": "stream",
     "text": [
      "With p > 0.05 dropped\n",
      "Accuracy:    0.703523\n",
      "Precision:   0.155807\n",
      "Recall:      0.916667\n",
      "F1 score:    0.266344\n"
     ]
    },
    {
     "data": {
      "image/png": "[encoded data removed]",
      "text/plain": [
       "<Figure size 432x288 with 2 Axes>"
      ]
     },
     "metadata": {
      "needs_background": "light"
     },
     "output_type": "display_data"
    }
   ],
   "source": [
    "log_reg = LogisticRegression(solver='liblinear', C=0.01, penalty='l2')\n",
    "log_reg.fit(X_train_resampled, y_train_resampled)\n",
    "lr_predicted = log_reg.predict(X_test)\n",
    "\n",
    "print(\"Full dataset\")\n",
    "print(\"%-12s %f\" % ('Accuracy:', metrics.accuracy_score(y_test, lr_predicted)))\n",
    "print(\"%-12s %f\" % ('Precision:', metrics.precision_score(y_test, lr_predicted)))\n",
    "print(\"%-12s %f\" % ('Recall:', metrics.recall_score(y_test, lr_predicted)))\n",
    "print(\"%-12s %f\" % ('F1 score:', metrics.f1_score(y_test, lr_predicted)))\n",
    "draw_confusion_matrix(y_test, lr_predicted, [\"Healthy\", \"Stroke\"])\n",
    "\n",
    "log_reg_reduced = LogisticRegression(solver='liblinear', C=0.01, penalty='l2')\n",
    "log_reg_reduced.fit(X_train_lr, y_train_resampled)\n",
    "lr_reduced_predicted = log_reg_reduced.predict(X_test_lr)\n",
    "print(\"With p > 0.05 dropped\")\n",
    "print(\"%-12s %f\" % ('Accuracy:', metrics.accuracy_score(y_test, lr_reduced_predicted)))\n",
    "print(\"%-12s %f\" % ('Precision:', metrics.precision_score(y_test, lr_reduced_predicted)))\n",
    "print(\"%-12s %f\" % ('Recall:', metrics.recall_score(y_test, lr_reduced_predicted)))\n",
    "print(\"%-12s %f\" % ('F1 score:', metrics.f1_score(y_test, lr_reduced_predicted)))\n",
    "draw_confusion_matrix(y_test, lr_reduced_predicted, [\"Healthy\", \"Stroke\"])"
   ]
  },
  {
   "cell_type": "markdown",
   "id": "patent-description",
   "metadata": {},
   "source": [
    "## Principal Component Analysis"
   ]
  },
  {
   "cell_type": "code",
   "execution_count": 341,
   "id": "bottom-pricing",
   "metadata": {},
   "outputs": [],
   "source": [
    "from sklearn import decomposition"
   ]
  },
  {
   "cell_type": "code",
   "execution_count": 342,
   "id": "cardiovascular-underground",
   "metadata": {},
   "outputs": [
    {
     "name": "stdout",
     "output_type": "stream",
     "text": [
      "Original size (5110, 20)\n",
      "Reduced size (5110, 11)\n"
     ]
    }
   ],
   "source": [
    "pca = decomposition.PCA(n_components = 0.95)\n",
    "lr_reduced = stroke_prepared.drop(['work_type_Never_worked', 'work_type_Private'], axis=1)\n",
    "stroke_pca = pca.fit_transform(lr_reduced)\n",
    "print(\"Original size\", lr_reduced.shape)\n",
    "print(\"Reduced size\", stroke_pca.shape)"
   ]
  },
  {
   "cell_type": "code",
   "execution_count": 343,
   "id": "specified-medicare",
   "metadata": {},
   "outputs": [],
   "source": [
    "X_train_pca, X_test_pca, y_train_pca, y_test_pca = train_test_split(stroke_pca, stroke_labels, \n",
    "                                                                    train_size=0.8, random_state=1, \n",
    "                                                                    stratify=stroke_labels, shuffle=True)"
   ]
  },
  {
   "cell_type": "code",
   "execution_count": 344,
   "id": "amateur-career",
   "metadata": {},
   "outputs": [],
   "source": [
    "X_train_pca_resampled, y_train_pca_resampled = smote_enn.fit_resample(X_train_pca, y_train_pca)"
   ]
  },
  {
   "cell_type": "code",
   "execution_count": 397,
   "id": "everyday-junior",
   "metadata": {},
   "outputs": [
    {
     "name": "stdout",
     "output_type": "stream",
     "text": [
      "Accuracy:    0.666341\n",
      "Precision:   0.107817\n",
      "Recall:      0.800000\n",
      "F1 score:    0.190024\n"
     ]
    },
    {
     "data": {
      "image/png": "[encoded data removed]",
      "text/plain": [
       "<Figure size 432x288 with 2 Axes>"
      ]
     },
     "metadata": {
      "needs_background": "light"
     },
     "output_type": "display_data"
    },
    {
     "name": "stdout",
     "output_type": "stream",
     "text": [
      "Saving figure LR ROC curve\n"
     ]
    },
    {
     "data": {
      "image/png": "[encoded data removed]",
      "text/plain": [
       "<Figure size 432x288 with 1 Axes>"
      ]
     },
     "metadata": {
      "needs_background": "light"
     },
     "output_type": "display_data"
    }
   ],
   "source": [
    "pca_lr = LogisticRegression(solver='liblinear', C=0.01, penalty='l2')\n",
    "pca_lr.fit(X_train_pca_resampled, y_train_pca_resampled)\n",
    "pca_lr_pred = pca_lr.predict(X_test_pca)\n",
    "\n",
    "print(\"%-12s %f\" % ('Accuracy:', metrics.accuracy_score(y_test_pca, pca_lr_pred)))\n",
    "print(\"%-12s %f\" % ('Precision:', metrics.precision_score(y_test_pca, pca_lr_pred)))\n",
    "print(\"%-12s %f\" % ('Recall:', metrics.recall_score(y_test_pca, pca_lr_pred)))\n",
    "print(\"%-12s %f\" % ('F1 score:', metrics.f1_score(y_test_pca, pca_lr_pred)))\n",
    "\n",
    "draw_confusion_matrix(y_test_pca, pca_lr_pred, [\"Healthy\", \"Stroke\"])\n",
    "\n",
    "lr_disp = metrics.plot_roc_curve(log_reg, X_test, y_test)  \n",
    "lr_reduced_disp = metrics.plot_roc_curve(log_reg_reduced,X_test_lr,y_test,\n",
    "                                         ax=lr_disp.ax_, name=\"LogisticRegression Reduced\")\n",
    "pca_lr_disp = metrics.plot_roc_curve(pca_lr, X_test_pca, y_test_pca,\n",
    "                                     ax=lr_disp.ax_, name='LogisticRegression PCA')  \n",
    "\n",
    "plt.plot([0,1],[0,1], linestyle=\"--\", label=\"RandomClassifer (AUC = 0.50)\")\n",
    "plt.legend() \n",
    "\n",
    "save_fig('LR ROC curve')"
   ]
  },
  {
   "cell_type": "markdown",
   "id": "extra-feature",
   "metadata": {},
   "source": [
    "## Ensemble Methods"
   ]
  },
  {
   "cell_type": "code",
   "execution_count": 346,
   "id": "conservative-board",
   "metadata": {},
   "outputs": [],
   "source": [
    "from sklearn.ensemble import AdaBoostClassifier\n",
    "from sklearn.ensemble import RandomForestClassifier\n",
    "from sklearn.ensemble import GradientBoostingClassifier"
   ]
  },
  {
   "cell_type": "markdown",
   "id": "offensive-finger",
   "metadata": {},
   "source": [
    "###  - AdaBoost"
   ]
  },
  {
   "cell_type": "code",
   "execution_count": 399,
   "id": "documentary-trading",
   "metadata": {},
   "outputs": [
    {
     "name": "stdout",
     "output_type": "stream",
     "text": [
      "Accuracy:    0.818982\n",
      "Precision:   0.172775\n",
      "Recall:      0.550000\n",
      "F1 score:    0.262948\n"
     ]
    },
    {
     "data": {
      "image/png": "[encoded data removed]",
      "text/plain": [
       "<Figure size 432x288 with 2 Axes>"
      ]
     },
     "metadata": {
      "needs_background": "light"
     },
     "output_type": "display_data"
    }
   ],
   "source": [
    "adaboost = AdaBoostClassifier(n_estimators = 90, random_state = 1)\n",
    "adaboost.fit(X_train_resampled, y_train_resampled)\n",
    "adaboost_pred = adaboost.predict(X_test)\n",
    "\n",
    "print(\"%-12s %f\" % ('Accuracy:', metrics.accuracy_score(y_test, adaboost_pred)))\n",
    "print(\"%-12s %f\" % ('Precision:', metrics.precision_score(y_test, adaboost_pred)))\n",
    "print(\"%-12s %f\" % ('Recall:', metrics.recall_score(y_test, adaboost_pred)))\n",
    "print(\"%-12s %f\" % ('F1 score:', metrics.f1_score(y_test, adaboost_pred)))\n",
    "\n",
    "draw_confusion_matrix(y_test, adaboost_pred, [\"Healthy\", \"Stroke\"])"
   ]
  },
  {
   "cell_type": "markdown",
   "id": "comparable-vault",
   "metadata": {},
   "source": [
    "### - Random Forest"
   ]
  },
  {
   "cell_type": "code",
   "execution_count": 398,
   "id": "effective-third",
   "metadata": {},
   "outputs": [
    {
     "name": "stdout",
     "output_type": "stream",
     "text": [
      "Accuracy:    0.809198\n",
      "Precision:   0.112299\n",
      "Recall:      0.420000\n",
      "F1 score:    0.177215\n"
     ]
    },
    {
     "data": {
      "image/png": "[encoded data removed]",
      "text/plain": [
       "<Figure size 432x288 with 2 Axes>"
      ]
     },
     "metadata": {
      "needs_background": "light"
     },
     "output_type": "display_data"
    }
   ],
   "source": [
    "rf = RandomForestClassifier(n_estimators=90,\n",
    "                            random_state = 1)\n",
    "rf.fit(X_train_pca_resampled, y_train_pca_resampled)\n",
    "rf_pred = rf.predict(X_test_pca)\n",
    "\n",
    "print(\"%-12s %f\" % ('Accuracy:', metrics.accuracy_score(y_test_pca, rf_pred)))\n",
    "print(\"%-12s %f\" % ('Precision:', metrics.precision_score(y_test_pca, rf_pred)))\n",
    "print(\"%-12s %f\" % ('Recall:', metrics.recall_score(y_test_pca, rf_pred)))\n",
    "print(\"%-12s %f\" % ('F1 score:', metrics.f1_score(y_test_pca, rf_pred)))\n",
    "\n",
    "draw_confusion_matrix(y_test_pca, rf_pred, [\"Healthy\", \"Stroke\"])"
   ]
  },
  {
   "cell_type": "markdown",
   "id": "pressed-karen",
   "metadata": {},
   "source": [
    "### - Gradient Boosting"
   ]
  },
  {
   "cell_type": "code",
   "execution_count": 350,
   "id": "greatest-property",
   "metadata": {
    "tags": []
   },
   "outputs": [
    {
     "name": "stdout",
     "output_type": "stream",
     "text": [
      "Accuracy:    0.605675\n",
      "Precision:   0.124726\n",
      "Recall:      0.950000\n",
      "F1 score:    0.220503\n"
     ]
    },
    {
     "data": {
      "image/png": "[encoded data removed]",
      "text/plain": [
       "<Figure size 432x288 with 2 Axes>"
      ]
     },
     "metadata": {
      "needs_background": "light"
     },
     "output_type": "display_data"
    }
   ],
   "source": [
    "gb = GradientBoostingClassifier(learning_rate=0.01,\n",
    "                                        n_estimators=40,\n",
    "                                       loss='deviance',\n",
    "                                       min_samples_split=0.1,\n",
    "                                       min_samples_leaf=0.01,\n",
    "                                       max_features=5,\n",
    "                                       subsample=0.9,\n",
    "                                        random_state = 1)\n",
    "gb.fit(X_train_resampled, y_train_resampled)\n",
    "gb_pred = gb.predict(X_test)\n",
    "\n",
    "print(\"%-12s %f\" % ('Accuracy:', metrics.accuracy_score(y_test, gb_pred)))\n",
    "print(\"%-12s %f\" % ('Precision:', metrics.precision_score(y_test, gb_pred)))\n",
    "print(\"%-12s %f\" % ('Recall:', metrics.recall_score(y_test, gb_pred)))\n",
    "print(\"%-12s %f\" % ('F1 score:', metrics.f1_score(y_test, gb_pred)))\n",
    "\n",
    "draw_confusion_matrix(y_test, gb_pred, [\"Healthy\", \"Stroke\"])"
   ]
  },
  {
   "cell_type": "code",
   "execution_count": 415,
   "id": "tropical-denmark",
   "metadata": {},
   "outputs": [
    {
     "name": "stdout",
     "output_type": "stream",
     "text": [
      "Saving figure Gradient Boosting max_features Tuning\n"
     ]
    },
    {
     "data": {
      "image/png": "[encoded data removed]",
      "text/plain": [
       "<Figure size 432x288 with 1 Axes>"
      ]
     },
     "metadata": {
      "needs_background": "light"
     },
     "output_type": "display_data"
    }
   ],
   "source": [
    "# code referenced from\n",
    "# https://medium.com/all-things-ai/in-depth-parameter-tuning-for-gradient-boosting-3363992e9bae\n",
    "\n",
    "# each parameter was manually tested, because I didn't know how to automate it...\n",
    "# this current code shows the process for optimizing max_features, where all the \n",
    "# previous features have already been optimized one-by-one\n",
    "parameter_space = {\n",
    "    'learning_rate': [0.1, 0.05, 0.01, 0.005, 0.001],\n",
    "    'n_estimators': range(10,101,10),\n",
    "    'loss': ['deviance','exponential'],\n",
    "    'min_samples_split': np.linspace(0.1, 1.0, 10, endpoint=True),\n",
    "    'min_samples_leaf': np.linspace(0.1, 0.5, 5, endpoint=True),\n",
    "    'max_features': list(range(1,X_train.shape[1])),\n",
    "    'subsample': np.linspace(0.1, 1.0, 10, endpoint=True)\n",
    "}\n",
    "\n",
    "parameter = 'max_features'\n",
    "values = parameter_space[parameter]\n",
    "train_results = []\n",
    "test_results = []\n",
    "for n in values:\n",
    "    model = GradientBoostingClassifier(learning_rate=0.01,\n",
    "                                        n_estimators=40,\n",
    "                                       loss='deviance',\n",
    "                                       min_samples_split=0.3,\n",
    "                                       min_samples_leaf=0.3,\n",
    "                                       max_features=n,\n",
    "                                        random_state = 1)\n",
    "    model.fit(X_train_resampled, y_train_resampled)\n",
    "\n",
    "    train_pred = model.predict(X_train_resampled)\n",
    "    score = metrics.recall_score(y_train_resampled, train_pred)\n",
    "    train_results.append(score)\n",
    "\n",
    "    y_pred = model.predict(X_test)\n",
    "    score = metrics.recall_score(y_test, y_pred)\n",
    "    test_results.append(score)\n",
    "\n",
    "from matplotlib.legend_handler import HandlerLine2D\n",
    "line1, = plt.plot(values, train_results, 'b', label='Train recall')\n",
    "line2, = plt.plot(values, test_results, 'r', label='Test recall')\n",
    "plt.legend(handler_map={line1: HandlerLine2D(numpoints=2)})\n",
    "plt.ylabel('Recall score')\n",
    "plt.xlabel(parameter)\n",
    "plt.title(\"Gradient Boosting \" +str(parameter) +\" Tuning\")\n",
    "save_fig(\"Gradient Boosting \" +str(parameter) +\" Tuning\")"
   ]
  },
  {
   "cell_type": "markdown",
   "id": "talented-italy",
   "metadata": {},
   "source": [
    "## Neural Net"
   ]
  },
  {
   "cell_type": "code",
   "execution_count": 352,
   "id": "interim-failing",
   "metadata": {},
   "outputs": [],
   "source": [
    "from sklearn.neural_network import MLPClassifier"
   ]
  },
  {
   "cell_type": "code",
   "execution_count": 411,
   "id": "gentle-moscow",
   "metadata": {},
   "outputs": [
    {
     "name": "stdout",
     "output_type": "stream",
     "text": [
      "Accuracy:    0.818004\n",
      "Precision:   0.191176\n",
      "Recall:      0.650000\n",
      "F1 score:    0.295455\n"
     ]
    },
    {
     "data": {
      "image/png": "[encoded data removed]",
      "text/plain": [
       "<Figure size 432x288 with 2 Axes>"
      ]
     },
     "metadata": {
      "needs_background": "light"
     },
     "output_type": "display_data"
    }
   ],
   "source": [
    "sk_nn = MLPClassifier(random_state=1,\n",
    "                      learning_rate_init=0.1,\n",
    "                      hidden_layer_sizes=(200,200,200),\n",
    "                      activation='tanh',\n",
    "                      alpha=0.0005,\n",
    "                      learning_rate='adaptive')\n",
    "sk_nn.fit(X_train_resampled, y_train_resampled)\n",
    "sk_nn_pred = sk_nn.predict(X_test)\n",
    "\n",
    "print(\"%-12s %f\" % ('Accuracy:', metrics.accuracy_score(y_test, sk_nn_pred)))\n",
    "print(\"%-12s %f\" % ('Precision:', metrics.precision_score(y_test, sk_nn_pred)))\n",
    "print(\"%-12s %f\" % ('Recall:', metrics.recall_score(y_test, sk_nn_pred)))\n",
    "print(\"%-12s %f\" % ('F1 score:', metrics.f1_score(y_test, sk_nn_pred)))\n",
    "\n",
    "draw_confusion_matrix(y_test, sk_nn_pred, [\"Healthy\", \"Stroke\"])"
   ]
  },
  {
   "cell_type": "code",
   "execution_count": 414,
   "id": "velvet-light",
   "metadata": {},
   "outputs": [
    {
     "name": "stdout",
     "output_type": "stream",
     "text": [
      "Saving figure Neural Net alpha Tuning\n"
     ]
    },
    {
     "data": {
      "image/png": "[encoded data removed]",
      "text/plain": [
       "<Figure size 432x288 with 1 Axes>"
      ]
     },
     "metadata": {
      "needs_background": "light"
     },
     "output_type": "display_data"
    }
   ],
   "source": [
    "parameter_space = {\n",
    "    'hidden_layer_sizes': [(200,200,200),(50,200,50)],\n",
    "    'activation': ['tanh', 'relu', 'logistic'],\n",
    "    'alpha': [0.0001, 0.0005, 0.001, 0.01],\n",
    "    'learning_rate': ['constant','adaptive'],\n",
    "    'learning_rate_init': [0.1, 0.05, 0.01, 0.005, 0.001],\n",
    "}\n",
    "    \n",
    "parameter = 'alpha'\n",
    "values = parameter_space[parameter]\n",
    "train_results = []\n",
    "test_results = []\n",
    "for n in values:\n",
    "    model = MLPClassifier(random_state=1,\n",
    "                          learning_rate_init=0.1,\n",
    "                      hidden_layer_sizes=(200,200,200),\n",
    "                      activation='tanh',\n",
    "                         alpha=n)\n",
    "    model.fit(X_train_resampled, y_train_resampled)\n",
    "\n",
    "    train_pred = model.predict(X_train_resampled)\n",
    "    score = metrics.recall_score(y_train_resampled, train_pred)\n",
    "    train_results.append(score)\n",
    "\n",
    "    y_pred = model.predict(X_test)\n",
    "    score = metrics.recall_score(y_test, y_pred)\n",
    "    test_results.append(score)\n",
    "\n",
    "from matplotlib.legend_handler import HandlerLine2D\n",
    "line1, = plt.plot(values, train_results, 'b', label='Train recall')\n",
    "line2, = plt.plot(values, test_results, 'r', label='Test recall')\n",
    "plt.legend(handler_map={line1: HandlerLine2D(numpoints=2)})\n",
    "plt.ylabel('Recall score')\n",
    "plt.xlabel(parameter)\n",
    "plt.title(\"Neural Net \" +str(parameter) +\" Tuning\")\n",
    "save_fig(\"Neural Net \" +str(parameter) +\" Tuning\")"
   ]
  },
  {
   "cell_type": "markdown",
   "id": "happy-round",
   "metadata": {},
   "source": [
    "## Cross Validation"
   ]
  },
  {
   "cell_type": "code",
   "execution_count": 419,
   "id": "documentary-complexity",
   "metadata": {
    "tags": []
   },
   "outputs": [
    {
     "name": "stdout",
     "output_type": "stream",
     "text": [
      "---------------------\n",
      "---------------------\n",
      "Model: LogisticRegression(C=0.01, solver='liblinear')\n",
      "Average Accuracy: 0.684352\n",
      "Average Precision: 0.118923\n",
      "Average Recall: 0.850000\n",
      "Average F1 score: 0.208600\n",
      "---------------------\n",
      "---------------------\n",
      "Model: AdaBoostClassifier(n_estimators=90, random_state=1)\n",
      "Average Accuracy: 0.749756\n",
      "Average Precision: 0.131069\n",
      "Average Recall: 0.730000\n",
      "Average F1 score: 0.222151\n",
      "---------------------\n",
      "---------------------\n",
      "Model: RandomForestClassifier(n_estimators=90, random_state=1)\n",
      "Average Accuracy: 0.829218\n",
      "Average Precision: 0.136499\n",
      "Average Recall: 0.470000\n",
      "Average F1 score: 0.211378\n",
      "---------------------\n",
      "---------------------\n",
      "Model: GradientBoostingClassifier(learning_rate=0.01, max_features=5,\n",
      "                           min_samples_leaf=0.01, min_samples_split=0.1,\n",
      "                           n_estimators=40, random_state=1, subsample=0.9)\n",
      "Average Accuracy: 0.647555\n",
      "Average Precision: 0.110706\n",
      "Average Recall: 0.880000\n",
      "Average F1 score: 0.196533\n",
      "---------------------\n",
      "---------------------\n",
      "Model: MLPClassifier(activation='tanh', alpha=0.0005,\n",
      "              hidden_layer_sizes=(200, 200, 200), learning_rate='adaptive',\n",
      "              learning_rate_init=0.05, random_state=1)\n",
      "Average Accuracy: 0.756968\n",
      "Average Precision: 0.122815\n",
      "Average Recall: 0.645000\n",
      "Average F1 score: 0.205481\n",
      "---------------------\n",
      "---------------------\n",
      "The best performing model is GradientBoostingClassifier(learning_rate=0.01, max_features=5,\n",
      "                           min_samples_leaf=0.01, min_samples_split=0.1,\n",
      "                           n_estimators=40, random_state=1, subsample=0.9) with recall of 0.8800000000000001\n"
     ]
    }
   ],
   "source": [
    "models = [pca_lr, adaboost, rf, gb, sk_nn]\n",
    "sss = StratifiedShuffleSplit(n_splits=10, test_size=0.2, random_state=1)\n",
    "reset_y_train_pca = y_train_pca.reset_index(drop=True)\n",
    "\n",
    "\n",
    "'''\n",
    "I customized the way I did cross validation, since it should reflect how\n",
    "I've been training and evaluating models thus far, which is:\n",
    "    - train on resampled data\n",
    "    - test on original distribution\n",
    "So, I used StratifiedShuffleSplit to split the original training set. Then, \n",
    "I resampled the inner training set (from the SSS).\n",
    "'''\n",
    "recall_scores = {}\n",
    "print(\"---------------------\")\n",
    "for model in models:\n",
    "    accuracies = []\n",
    "    precisions = []\n",
    "    recalls = []\n",
    "    f1_scores = []\n",
    "    print(\"---------------------\")\n",
    "    print(\"Model:\", model)\n",
    "    for train_index, test_index in sss.split(X_train_pca, reset_y_train_pca):\n",
    "        # form training and validation sets for CV\n",
    "        cv_X_train, cv_X_test = X_train_pca[train_index], X_train_pca[test_index]\n",
    "        cv_y_train, cv_y_test = reset_y_train_pca[train_index], reset_y_train_pca[test_index]\n",
    "        \n",
    "        # resample the training set to account for class imbalance\n",
    "        cv_X_train_resampled, cv_y_train_resampled = smote_enn.fit_resample(cv_X_train, cv_y_train)\n",
    "        \n",
    "        # fit and predict\n",
    "        model.fit(cv_X_train_resampled, cv_y_train_resampled)\n",
    "        pred = model.predict(cv_X_test)\n",
    "        \n",
    "        # get metrics\n",
    "        accuracies.append(metrics.accuracy_score(cv_y_test,pred))\n",
    "        precisions.append(metrics.precision_score(cv_y_test,pred))\n",
    "        recalls.append(metrics.recall_score(cv_y_test,pred))\n",
    "        f1_scores.append(metrics.f1_score(cv_y_test,pred))\n",
    "    print(\"%-12s %f\" % ('Average Accuracy:', np.array(accuracies).mean()))\n",
    "    print(\"%-12s %f\" % ('Average Precision:', np.array(precisions).mean()))\n",
    "    print(\"%-12s %f\" % ('Average Recall:', np.array(recalls).mean()))\n",
    "    print(\"%-12s %f\" % ('Average F1 score:', np.array(f1_scores).mean()))\n",
    "    print(\"---------------------\")\n",
    "    recall_scores[model] = np.array(recalls).mean()\n",
    "print(\"---------------------\")\n",
    "Keymax = max(recall_scores, key=recall_scores.get)\n",
    "print(\"The best performing model is\", Keymax, \"with recall of\", recall_scores[Keymax])"
   ]
  }
 ],
 "metadata": {
  "kernelspec": {
   "display_name": "Python 3",
   "language": "python",
   "name": "python3"
  },
  "language_info": {
   "codemirror_mode": {
    "name": "ipython",
    "version": 3
   },
   "file_extension": ".py",
   "mimetype": "text/x-python",
   "name": "python",
   "nbconvert_exporter": "python",
   "pygments_lexer": "ipython3",
   "version": "3.9.2"
  }
 },
 "nbformat": 4,
 "nbformat_minor": 5
}
